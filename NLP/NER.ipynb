{
  "nbformat": 4,
  "nbformat_minor": 0,
  "metadata": {
    "colab": {
      "name": "NER.ipynb",
      "provenance": []
    },
    "kernelspec": {
      "name": "python3",
      "display_name": "Python 3"
    }
  },
  "cells": [
    {
      "cell_type": "markdown",
      "metadata": {
        "id": "bbt4DFESGta9",
        "colab_type": "text"
      },
      "source": [
        "[![Open In Colab](https://colab.research.google.com/assets/colab-badge.svg)](https://colab.research.google.com/drive/1iZ6kNlQ1mhqX2XtCjVLGXi0hYInbsYZh?usp=sharing)"
      ]
    },
    {
      "cell_type": "code",
      "metadata": {
        "id": "V6P2yid86qST",
        "colab_type": "code",
        "colab": {
          "base_uri": "https://localhost:8080/",
          "height": 302
        },
        "outputId": "299d2d6e-dc09-452d-839b-5e2fbe06eb90"
      },
      "source": [
        "pip install stanza"
      ],
      "execution_count": 1,
      "outputs": [
        {
          "output_type": "stream",
          "text": [
            "Collecting stanza\n",
            "\u001b[?25l  Downloading https://files.pythonhosted.org/packages/e7/8b/3a9e7a8d8cb14ad6afffc3983b7a7322a3a24d94ebc978a70746fcffc085/stanza-1.1.1-py3-none-any.whl (227kB)\n",
            "\r\u001b[K     |█▍                              | 10kB 16.8MB/s eta 0:00:01\r\u001b[K     |██▉                             | 20kB 3.0MB/s eta 0:00:01\r\u001b[K     |████▎                           | 30kB 3.6MB/s eta 0:00:01\r\u001b[K     |█████▊                          | 40kB 3.9MB/s eta 0:00:01\r\u001b[K     |███████▏                        | 51kB 3.4MB/s eta 0:00:01\r\u001b[K     |████████▋                       | 61kB 3.6MB/s eta 0:00:01\r\u001b[K     |██████████                      | 71kB 4.2MB/s eta 0:00:01\r\u001b[K     |███████████▌                    | 81kB 4.3MB/s eta 0:00:01\r\u001b[K     |█████████████                   | 92kB 4.7MB/s eta 0:00:01\r\u001b[K     |██████████████▍                 | 102kB 4.5MB/s eta 0:00:01\r\u001b[K     |███████████████▉                | 112kB 4.5MB/s eta 0:00:01\r\u001b[K     |█████████████████▎              | 122kB 4.5MB/s eta 0:00:01\r\u001b[K     |██████████████████▊             | 133kB 4.5MB/s eta 0:00:01\r\u001b[K     |████████████████████▏           | 143kB 4.5MB/s eta 0:00:01\r\u001b[K     |█████████████████████▋          | 153kB 4.5MB/s eta 0:00:01\r\u001b[K     |███████████████████████         | 163kB 4.5MB/s eta 0:00:01\r\u001b[K     |████████████████████████▌       | 174kB 4.5MB/s eta 0:00:01\r\u001b[K     |██████████████████████████      | 184kB 4.5MB/s eta 0:00:01\r\u001b[K     |███████████████████████████▍    | 194kB 4.5MB/s eta 0:00:01\r\u001b[K     |████████████████████████████▉   | 204kB 4.5MB/s eta 0:00:01\r\u001b[K     |██████████████████████████████▎ | 215kB 4.5MB/s eta 0:00:01\r\u001b[K     |███████████████████████████████▊| 225kB 4.5MB/s eta 0:00:01\r\u001b[K     |████████████████████████████████| 235kB 4.5MB/s \n",
            "\u001b[?25hRequirement already satisfied: protobuf in /usr/local/lib/python3.6/dist-packages (from stanza) (3.12.4)\n",
            "Requirement already satisfied: numpy in /usr/local/lib/python3.6/dist-packages (from stanza) (1.18.5)\n",
            "Requirement already satisfied: torch>=1.3.0 in /usr/local/lib/python3.6/dist-packages (from stanza) (1.6.0+cu101)\n",
            "Requirement already satisfied: requests in /usr/local/lib/python3.6/dist-packages (from stanza) (2.23.0)\n",
            "Requirement already satisfied: tqdm in /usr/local/lib/python3.6/dist-packages (from stanza) (4.41.1)\n",
            "Requirement already satisfied: six>=1.9 in /usr/local/lib/python3.6/dist-packages (from protobuf->stanza) (1.15.0)\n",
            "Requirement already satisfied: setuptools in /usr/local/lib/python3.6/dist-packages (from protobuf->stanza) (49.6.0)\n",
            "Requirement already satisfied: future in /usr/local/lib/python3.6/dist-packages (from torch>=1.3.0->stanza) (0.16.0)\n",
            "Requirement already satisfied: chardet<4,>=3.0.2 in /usr/local/lib/python3.6/dist-packages (from requests->stanza) (3.0.4)\n",
            "Requirement already satisfied: urllib3!=1.25.0,!=1.25.1,<1.26,>=1.21.1 in /usr/local/lib/python3.6/dist-packages (from requests->stanza) (1.24.3)\n",
            "Requirement already satisfied: certifi>=2017.4.17 in /usr/local/lib/python3.6/dist-packages (from requests->stanza) (2020.6.20)\n",
            "Requirement already satisfied: idna<3,>=2.5 in /usr/local/lib/python3.6/dist-packages (from requests->stanza) (2.10)\n",
            "Installing collected packages: stanza\n",
            "Successfully installed stanza-1.1.1\n"
          ],
          "name": "stdout"
        }
      ]
    },
    {
      "cell_type": "code",
      "metadata": {
        "id": "iUvo8LYu_Cng",
        "colab_type": "code",
        "colab": {
          "base_uri": "https://localhost:8080/",
          "height": 319
        },
        "outputId": "a5aa1d00-9409-4de9-c5c2-35173139ed5a"
      },
      "source": [
        "#NER named entity recognition in python implementation code\n",
        "import stanza\n",
        "stanza.download('en')\n",
        "import operator\n",
        "nlp = stanza.Pipeline(lang='en', processors='tokenize,ner')\n",
        "\n",
        "def entities(doc):\n",
        "  #sample input:\n",
        "  #doc = nlp(\"What is the PA average salary vs an RN?\")\n",
        "\n",
        "  print(*[f'entity: {ent.text}\\ttype: {ent.type}' for ent in doc.ents], sep='\\n')\n",
        "  entities=[]\n",
        "  for ent in doc.ents:\n",
        "    entities.append(ent.type)\n",
        "  #print(entities)\n",
        "  return entities\n",
        "\n",
        "doc = nlp(\"What is the PA average salary vs an RN?\")\n",
        "print(entities(doc))"
      ],
      "execution_count": 2,
      "outputs": [
        {
          "output_type": "stream",
          "text": [
            "Downloading https://raw.githubusercontent.com/stanfordnlp/stanza-resources/master/resources_1.1.0.json: 122kB [00:00, 36.8MB/s]                    \n",
            "2020-08-30 15:48:53 INFO: Downloading default packages for language: en (English)...\n",
            "Downloading http://nlp.stanford.edu/software/stanza/1.1.0/en/default.zip: 100%|██████████| 428M/428M [00:06<00:00, 70.4MB/s]\n",
            "2020-08-30 15:49:07 INFO: Finished downloading models and saved to /root/stanza_resources.\n",
            "2020-08-30 15:49:07 INFO: Loading these models for language: en (English):\n",
            "=========================\n",
            "| Processor | Package   |\n",
            "-------------------------\n",
            "| tokenize  | ewt       |\n",
            "| ner       | ontonotes |\n",
            "=========================\n",
            "\n",
            "2020-08-30 15:49:07 INFO: Use device: cpu\n",
            "2020-08-30 15:49:07 INFO: Loading: tokenize\n",
            "2020-08-30 15:49:07 INFO: Loading: ner\n",
            "2020-08-30 15:49:08 INFO: Done loading processors!\n"
          ],
          "name": "stderr"
        },
        {
          "output_type": "stream",
          "text": [
            "entity: PA\ttype: GPE\n",
            "['GPE']\n"
          ],
          "name": "stdout"
        }
      ]
    }
  ]
}