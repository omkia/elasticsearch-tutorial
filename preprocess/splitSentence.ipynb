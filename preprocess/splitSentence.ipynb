{
  "nbformat": 4,
  "nbformat_minor": 0,
  "metadata": {
    "colab": {
      "name": "splitSentence.ipynb",
      "provenance": []
    },
    "kernelspec": {
      "name": "python3",
      "display_name": "Python 3"
    }
  },
  "cells": [
    {
      "cell_type": "markdown",
      "metadata": {
        "id": "Vg62tmJo93_V",
        "colab_type": "text"
      },
      "source": [
        "[![Open In Colab](https://colab.research.google.com/assets/colab-badge.svg)](https://colab.research.google.com/drive/1zSnqiVseInynoSoVE5fqFkku8C80uPT9?usp=sharing)"
      ]
    },
    {
      "cell_type": "markdown",
      "metadata": {
        "id": "apNc-6jq94R6",
        "colab_type": "text"
      },
      "source": [
        "split text into sentences"
      ]
    },
    {
      "cell_type": "code",
      "metadata": {
        "id": "uhi0w96293ZO",
        "colab_type": "code",
        "colab": {}
      },
      "source": [
        "# split text to sentences\n",
        "import nltk\n",
        "nltk.download('punkt')\n",
        "text = \"I do not like green eggs and ham. I do not like them Sam-I-am.\"\n",
        "a_list = nltk.tokenize.sent_tokenize(text)\n",
        "print(a_list)"
      ],
      "execution_count": null,
      "outputs": []
    }
  ]
}