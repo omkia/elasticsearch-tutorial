{
  "nbformat": 4,
  "nbformat_minor": 0,
  "metadata": {
    "colab": {
      "name": "lowercase.ipynb",
      "provenance": []
    },
    "kernelspec": {
      "name": "python3",
      "display_name": "Python 3"
    }
  },
  "cells": [
    {
      "cell_type": "markdown",
      "metadata": {
        "id": "Z2xkn5VfDHLS",
        "colab_type": "text"
      },
      "source": [
        "[![Open In Colab](https://colab.research.google.com/assets/colab-badge.svg)](https://colab.research.google.com/drive/1jqQcqBnlaVlejEfITGAIaFVrHZtrGFwO?usp=sharing)"
      ]
    },
    {
      "cell_type": "markdown",
      "metadata": {
        "id": "9EX1x-J__mb7",
        "colab_type": "text"
      },
      "source": [
        "How to convert string to lowercase in Python?\n",
        "Is there any way to convert an entire user inputted string from uppercase, or even part uppercase to lowercase?\n",
        "\n",
        "E.g. Kilometers --> kilometers\n",
        "\n",
        "The canonical Pythonic way of doing this is"
      ]
    },
    {
      "cell_type": "code",
      "metadata": {
        "id": "44fYJYB-_A3U",
        "colab_type": "code",
        "colab": {}
      },
      "source": [
        "'Kilometers'.lower()"
      ],
      "execution_count": null,
      "outputs": []
    },
    {
      "cell_type": "markdown",
      "metadata": {
        "id": "BhalzyP4_XxY",
        "colab_type": "text"
      },
      "source": [
        "'kilometers'\n",
        "However, if the purpose is to do case insensitive matching, you should use case-folding:\n"
      ]
    },
    {
      "cell_type": "code",
      "metadata": {
        "id": "nPoNO2Mh_yIn",
        "colab_type": "code",
        "colab": {}
      },
      "source": [
        "'Kilometers'.casefold()"
      ],
      "execution_count": null,
      "outputs": []
    },
    {
      "cell_type": "markdown",
      "metadata": {
        "id": "LP9MKjrc_zpn",
        "colab_type": "text"
      },
      "source": [
        "Here's why:"
      ]
    },
    {
      "cell_type": "code",
      "metadata": {
        "id": "3RgBafR2AEFq",
        "colab_type": "code",
        "colab": {}
      },
      "source": [
        "\"Maße\".casefold()\n",
        "#'masse'\n",
        "\"Maße\".lower()\n",
        "#'maße'\n",
        "\"MASSE\" == \"Maße\"\n",
        "#False\n",
        "\"MASSE\".lower() == \"Maße\".lower()\n",
        "#False\n",
        "\"MASSE\".casefold() == \"Maße\".casefold()\n",
        "#True"
      ],
      "execution_count": null,
      "outputs": []
    },
    {
      "cell_type": "markdown",
      "metadata": {
        "id": "90aeENqg_daY",
        "colab_type": "text"
      },
      "source": [
        "This is a str method in Python 3, but in Python 2, you'll want to look at the PyICU or py2casefold - several answers address this here.\n",
        "\n",
        "Unicode Python 3\n",
        "Python 3 handles plain string literals as unicode:\n"
      ]
    },
    {
      "cell_type": "code",
      "metadata": {
        "id": "4RfXDLHoAeYv",
        "colab_type": "code",
        "colab": {}
      },
      "source": [
        "string = 'Километр'\n",
        "#'Километр'\n",
        "string.lower()\n",
        "#'километр'"
      ],
      "execution_count": null,
      "outputs": []
    },
    {
      "cell_type": "markdown",
      "metadata": {
        "id": "MMu5c1NuAwl7",
        "colab_type": "text"
      },
      "source": [
        "Python 2, plain string literals are bytes\n",
        "In Python 2, the below, pasted into a shell, encodes the literal as a string of bytes, using utf-8.\n",
        "\n",
        "And lower doesn't map any changes that bytes would be aware of, so we get the same string."
      ]
    },
    {
      "cell_type": "code",
      "metadata": {
        "id": "C2XtZNotA13W",
        "colab_type": "code",
        "colab": {}
      },
      "source": [
        "string = 'Километр'\n",
        "#'\\xd0\\x9a\\xd0\\xb8\\xd0\\xbb\\xd0\\xbe\\xd0\\xbc\\xd0\\xb5\\xd1\\x82\\xd1\\x80'\n",
        "string.lower()\n",
        "#'\\xd0\\x9a\\xd0\\xb8\\xd0\\xbb\\xd0\\xbe\\xd0\\xbc\\xd0\\xb5\\xd1\\x82\\xd1\\x80'\n",
        "print(string.lower())\n",
        "#Километр"
      ],
      "execution_count": null,
      "outputs": []
    },
    {
      "cell_type": "markdown",
      "metadata": {
        "id": "4_72SE-CA_zu",
        "colab_type": "text"
      },
      "source": [
        "In scripts, Python will object to non-ascii (as of Python 2.5, and warning in Python 2.4) bytes being in a string with no encoding given, since the intended coding would be ambiguous. For more on that, see the Unicode how-to in the docs and PEP 263\n",
        "\n",
        "Use Unicode literals, not str literals\n",
        "So we need a unicode string to handle this conversion, accomplished easily with a unicode string literal, which disambiguates with a u prefix (and note the u prefix also works in Python 3):"
      ]
    },
    {
      "cell_type": "code",
      "metadata": {
        "id": "LCqismuKBI4m",
        "colab_type": "code",
        "colab": {}
      },
      "source": [
        "unicode_literal = u'Километр'\n",
        "print(unicode_literal.lower())\n",
        "#километр"
      ],
      "execution_count": null,
      "outputs": []
    },
    {
      "cell_type": "markdown",
      "metadata": {
        "id": "13TDjK3zBQie",
        "colab_type": "text"
      },
      "source": [
        "Note that the bytes are completely different from the str bytes - the escape character is '\\u' followed by the 2-byte width, or 16 bit representation of these unicode letters:"
      ]
    },
    {
      "cell_type": "code",
      "metadata": {
        "id": "Pn98aGzLBVzW",
        "colab_type": "code",
        "colab": {}
      },
      "source": [
        "unicode_literal\n",
        "#u'\\u041a\\u0438\\u043b\\u043e\\u043c\\u0435\\u0442\\u0440'\n",
        "unicode_literal.lower()\n",
        "#u'\\u043a\\u0438\\u043b\\u043e\\u043c\\u0435\\u0442\\u0440'"
      ],
      "execution_count": null,
      "outputs": []
    },
    {
      "cell_type": "markdown",
      "metadata": {
        "id": "I5o65rgyBf-u",
        "colab_type": "text"
      },
      "source": [
        "Now if we only have it in the form of a str, we need to convert it to unicode. Python's Unicode type is a universal encoding format that has many advantages relative to most other encodings. We can either use the unicode constructor or str.decode method with the codec to convert the str to unicode:"
      ]
    },
    {
      "cell_type": "code",
      "metadata": {
        "id": "RCGPJRnEBkYB",
        "colab_type": "code",
        "colab": {}
      },
      "source": [
        "unicode_from_string = unicode(string, 'utf-8') # \"encoding\" unicode from string\n",
        "print(unicode_from_string.lower())\n",
        "#километр\n",
        "string_to_unicode = string.decode('utf-8') \n",
        "print(string_to_unicode.lower())\n",
        "#километр\n",
        "print(unicode_from_string == string_to_unicode == unicode_literal)\n",
        "#True"
      ],
      "execution_count": null,
      "outputs": []
    },
    {
      "cell_type": "markdown",
      "metadata": {
        "id": "Bm6bTqneCGfd",
        "colab_type": "text"
      },
      "source": [
        "Both methods convert to the unicode type - and same as the unicode_literal.\n",
        "\n",
        "Best Practice, use Unicode\n",
        "It is recommended that you always work with text in Unicode.\n",
        "\n",
        "Software should only work with Unicode strings internally, converting to a particular encoding on output.\n",
        "\n",
        "Can encode back when necessary\n",
        "However, to get the lowercase back in type str, encode the python string to utf-8 again:"
      ]
    },
    {
      "cell_type": "code",
      "metadata": {
        "id": "BkVvObalCO3P",
        "colab_type": "code",
        "colab": {}
      },
      "source": [
        "\n",
        "#print string\n",
        "#Километр\n",
        "#string\n",
        "#'\\xd0\\x9a\\xd0\\xb8\\xd0\\xbb\\xd0\\xbe\\xd0\\xbc\\xd0\\xb5\\xd1\\x82\\xd1\\x80'\n",
        "string.decode('utf-8')\n",
        "#u'\\u041a\\u0438\\u043b\\u043e\\u043c\\u0435\\u0442\\u0440'\n",
        "string.decode('utf-8').lower()\n",
        "#u'\\u043a\\u0438\\u043b\\u043e\\u043c\\u0435\\u0442\\u0440'\n",
        "string.decode('utf-8').lower().encode('utf-8')\n",
        "#'\\xd0\\xba\\xd0\\xb8\\xd0\\xbb\\xd0\\xbe\\xd0\\xbc\\xd0\\xb5\\xd1\\x82\\xd1\\x80'\n",
        "print( string.decode('utf-8').lower().encode('utf-8'))\n",
        "#километр"
      ],
      "execution_count": null,
      "outputs": []
    },
    {
      "cell_type": "markdown",
      "metadata": {
        "id": "Rd82bTAgCg4n",
        "colab_type": "text"
      },
      "source": [
        "So in Python 2, Unicode can encode into Python strings, and Python strings can decode into the Unicode type."
      ]
    }
  ]
}