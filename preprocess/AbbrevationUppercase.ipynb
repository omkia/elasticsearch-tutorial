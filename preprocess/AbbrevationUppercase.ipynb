{
  "nbformat": 4,
  "nbformat_minor": 0,
  "metadata": {
    "colab": {
      "name": "AbbrevationUppercase.ipynb",
      "provenance": []
    },
    "kernelspec": {
      "name": "python3",
      "display_name": "Python 3"
    }
  },
  "cells": [
    {
      "cell_type": "markdown",
      "metadata": {
        "id": "IWvJpRVJ7Bsd",
        "colab_type": "text"
      },
      "source": [
        "[![Open In Colab](https://colab.research.google.com/assets/colab-badge.svg)](https://colab.research.google.com/drive/1jBep-oD-Zccqfxt00RXGHAiQbV_KSc25?usp=sharing)"
      ]
    },
    {
      "cell_type": "markdown",
      "metadata": {
        "id": "YBUQ01Pn7B68",
        "colab_type": "text"
      },
      "source": [
        "check string only contains uppercase letters\n",
        "\n",
        "Convert a string to all uppercase if it contains at least 2 uppercase \n",
        "\n",
        "characters in the first 4 characters\n",
        "\n",
        "abbrevation resolution\n"
      ]
    },
    {
      "cell_type": "code",
      "metadata": {
        "id": "eu16jgS_6uPx",
        "colab_type": "code",
        "colab": {}
      },
      "source": [
        "\n",
        "def only_upper(s):\n",
        "    return \"\".join(c for c in s if c.isupper())\n",
        "\n",
        "#Convert a string to all uppercase if it contains at least 2 uppercase characters in the first 4 characters\n",
        "def to_uppercase(str1):\n",
        "    num_upper = 0\n",
        "    for letter in str1[:4]: \n",
        "        if letter.upper() == letter:\n",
        "            num_upper += 1\n",
        "    if num_upper >= 2 :\n",
        "        return only_upper(str1)\n",
        "    return str1\n",
        "globalDict={}\n",
        "def extended(input):\n",
        "  #sample input\n",
        "  #input=\"What is a physicians assistant ? What the difference between a PA and a nurse practitioner ? Do NPs or PAs make more?\"\n",
        "  output=input\n",
        "  TokenizedArray = input.split(\" \")\n",
        "  \n",
        "  #null members removed\n",
        "  TokenizedArray=list(filter(lambda a: a != \"\", TokenizedArray))\n",
        "  \n",
        "  #NPs ->NP\n",
        "  myList=[to_uppercase(x) for x in TokenizedArray]\n",
        "\n",
        "\n",
        "  chars=[x[0].lower() for x in TokenizedArray]\n",
        "  abbreviates=[]\n",
        "  for word in myList:\n",
        "    if( word.isupper() and word.isalpha() and len(word)>1):\n",
        "      abbreviates.append(word.lower())\n",
        "\n",
        "\n",
        "  #print(\"abbreviates  \"+str(abbreviates))\n",
        "\n",
        "  #join or concat char members of an array to string\n",
        "  #concat first chars for search\n",
        "  mystring=''.join(chars)\n",
        "  fullwords=[]\n",
        "  #find that abbreviated word in previous words\n",
        "  #abbreviate resolver\n",
        "  for findit in abbreviates:\n",
        "    location=mystring.find(findit)\n",
        "    if(location==-1):\n",
        "      if findit in globalDict:\n",
        "        result=globalDict[findit]\n",
        "      else:\n",
        "        result=findit\n",
        "    else:\n",
        "      #length of string\n",
        "      findlength=len(findit)\n",
        "\n",
        "      expanded=[]\n",
        "      for x in range(location, location+findlength):\n",
        "        expanded.append(myList[x].translate(str.maketrans('','',string.punctuation)))\n",
        "      result=' '.join(expanded)\n",
        "      fullwords.append(result)\n",
        "\n",
        "      globalDict[findit]=result\n",
        "\n",
        "    if(len(abbreviates)>0):\n",
        "      for k in globalDict.keys():\n",
        "        #print(\"key:\"+k+\"value: \"+dict[k])\n",
        "        #reolace abbreviated with full version\n",
        "        output = output.replace(k.upper(), globalDict[k])\n",
        " \n",
        "  return output"
      ],
      "execution_count": null,
      "outputs": []
    }
  ]
}