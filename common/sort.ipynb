{
  "nbformat": 4,
  "nbformat_minor": 0,
  "metadata": {
    "colab": {
      "name": "sort.ipynb",
      "provenance": []
    },
    "kernelspec": {
      "name": "python3",
      "display_name": "Python 3"
    }
  },
  "cells": [
    {
      "cell_type": "markdown",
      "metadata": {
        "id": "i5O-A1sk6eTO",
        "colab_type": "text"
      },
      "source": [
        "[![Open In Colab](https://colab.research.google.com/assets/colab-badge.svg)](https://colab.research.google.com/drive/1ef9HNSgd8GKWIWxqHC1ldaQAH3RKzBmP?usp=sharing)"
      ]
    },
    {
      "cell_type": "markdown",
      "metadata": {
        "id": "o4xsldZZ6fEy",
        "colab_type": "text"
      },
      "source": [
        "sort dictionary by value python"
      ]
    },
    {
      "cell_type": "code",
      "metadata": {
        "id": "JpjqjrWQ6aCI",
        "colab_type": "code",
        "colab": {}
      },
      "source": [
        "def SortDictVal(dictionary):\n",
        "  dictionary = {1: 2, 3: 4, 4: 3, 2: 1, 0: 0}\n",
        "  sorted_dictionary = sorted(dictionary.items(), key=operator.itemgetter(1))\n",
        "  return sorted_dictionary"
      ],
      "execution_count": null,
      "outputs": []
    }
  ]
}