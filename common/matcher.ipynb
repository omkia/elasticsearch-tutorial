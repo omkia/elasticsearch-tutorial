{
  "nbformat": 4,
  "nbformat_minor": 0,
  "metadata": {
    "colab": {
      "name": "matcher.ipynb",
      "provenance": []
    },
    "kernelspec": {
      "name": "python3",
      "display_name": "Python 3"
    }
  },
  "cells": [
    {
      "cell_type": "markdown",
      "metadata": {
        "id": "gWGmuGnQ6SmQ",
        "colab_type": "text"
      },
      "source": [
        "[![Open In Colab](https://colab.research.google.com/assets/colab-badge.svg)](https://colab.research.google.com/drive/1zyFkQYi_Xz6jecge5FDVOqkFb3qkq2Of?usp=sharing)"
      ]
    },
    {
      "cell_type": "markdown",
      "metadata": {
        "id": "H-_WYH4p6Id8",
        "colab_type": "text"
      },
      "source": [
        "find and count common members between two dictionaries in python"
      ]
    },
    {
      "cell_type": "code",
      "metadata": {
        "id": "qecka0RJ6ElV",
        "colab_type": "code",
        "colab": {}
      },
      "source": [
        "def matcher(Q_ents,P_ents):\n",
        "  #sample input:\n",
        "  #Q_ents = ['hi', '2'] #Query entities\n",
        "  #P_ents = [2, 3,'hi'] #Passage entities\n",
        "\n",
        "  Q_ents_as_set = set(Q_ents)\n",
        "  intersection = Q_ents_as_set.intersection(P_ents)\n",
        "  intersection_as_list = list(intersection)\n",
        "  #sample output:1\n",
        "  return len(intersection_as_list)# number of common members"
      ],
      "execution_count": null,
      "outputs": []
    }
  ]
}